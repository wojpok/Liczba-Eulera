{
 "cells": [
  {
   "cell_type": "markdown",
   "id": "46f200e8-b32e-4676-93d8-dae50a514019",
   "metadata": {},
   "source": [
    "# Analiza Numeryczna - Zadanie 1.4"
   ]
  },
  {
   "cell_type": "code",
   "execution_count": 1,
   "id": "41241e26-30d4-4f1d-a489-3d49b85453b4",
   "metadata": {},
   "outputs": [
    {
     "data": {
      "text/plain": [
       "Float64"
      ]
     },
     "execution_count": 1,
     "metadata": {},
     "output_type": "execute_result"
    }
   ],
   "source": [
    "# Elementy ze standardowej biblioteki\n",
    "\n",
    "using Printf\n",
    "using Plots\n",
    "\n",
    "# backend wykresów.\n",
    "pyplot()\n",
    "#plotlyjs()\n",
    "\n",
    "# precyzja obliczeniowa\n",
    "__precision = Float64\n",
    "\n",
    "#__precision = BigFloat\n",
    "#setprecision(128)"
   ]
  },
  {
   "cell_type": "markdown",
   "id": "57760602-84af-4a7d-8ba5-8d00774ba1d3",
   "metadata": {},
   "source": [
    "## Algorytm regresji liniowej\n",
    "\n",
    "Został zaimplementowany zgodnie ze przekształceniami zawartymi we sprawozdaniu.\n",
    "Funkcja liniowej regresji posiłkuje się fukcją pomocniczą $mat()$ która tworzy macierze o zadanych rozmiarach.\n"
   ]
  },
  {
   "cell_type": "code",
   "execution_count": 2,
   "id": "48d6cb32-de42-47fa-92b5-eb7264912d06",
   "metadata": {},
   "outputs": [
    {
     "data": {
      "text/plain": [
       "linear_regression (generic function with 2 methods)"
      ]
     },
     "execution_count": 2,
     "metadata": {},
     "output_type": "execute_result"
    }
   ],
   "source": [
    "# Konstruktor macierzy X*Y o wartości domyślnej initialV\n",
    "function mat(dimX, dimY, initialV)\n",
    "    mat1 = Array{__precision}(undef, dimX, dimY)\n",
    "    \n",
    "    for i in 1:dimX\n",
    "        for j in 1:dimY\n",
    "            mat1[i, j] = initialV\n",
    "        end\n",
    "    end\n",
    "    \n",
    "    return mat1\n",
    "end\n",
    "\n",
    "# Liniowa regresja\n",
    "function linear_regression(argumentsX, valuesY, verbose = false) # -> ax + b\n",
    "    len = length(argumentsX)\n",
    "\t\n",
    "\tmatX = mat(2, len, 1)\n",
    "\tmatY = mat(1, len, 1)\n",
    "\t\n",
    "\tfor i in 1:len\n",
    "\t\tmatX[2, i] = argumentsX[i]\n",
    "\t\tmatY[1, i] = valuesY[i]\n",
    "\tend\n",
    "\n",
    "\ta = (matX*transpose(matX))^-1* (matX) *transpose( matY)\n",
    "\t\n",
    "    # rozszrzony output, podaje informacje o dokładności przybliżenia dla każdego punktu\n",
    "    if verbose\n",
    "        @printf(\"Przybliżenie a: %f\\nb: %f\\n\", a[2,1], a[1,1])\n",
    "        \n",
    "        @printf(\"Lp. / X / Y / przybliżenie / błąd względny / błąd bezwględny\")\n",
    "        \n",
    "        minBW, maxBW = 10, 0\n",
    "        minBB, maxBB = 10, 0\n",
    "        \n",
    "        for i in 1:len\n",
    "            g = a[2,1]*matX[2, i] + a[1,1]\n",
    "            \n",
    "            bw = abs(valuesY[i] - g)\n",
    "            bb = abs((valuesY[i] - g)/ valuesY[i])\n",
    "            \n",
    "            minBW = bw < minBW ? bw : minBW\n",
    "            maxBW = bw > maxBW ? bw : maxBW\n",
    "            \n",
    "            minBB = bb < minBB ? bb : minBB\n",
    "            maxBB = bb > maxBB ? bb : maxBB\n",
    "            \n",
    "            @printf(\"%d: %.10f %.10f %.10f %.10f %.10f\\n\",i, argumentsX[i], valuesY[i], g, bw, bb)\n",
    "        end\n",
    "        \n",
    "        @printf(\"maxBW: %.10f, minBW: %.10f \\nmaxBB: %.10f, minBB: %.10f\\n\", maxBW, minBW, maxBB, minBB)\n",
    "    end\n",
    "    return a[2,1], a[1,1] \n",
    "end\n"
   ]
  },
  {
   "cell_type": "markdown",
   "id": "df2e852e-b574-4e06-825d-49cda7104214",
   "metadata": {
    "tags": []
   },
   "source": [
    "### Metody numeryczne"
   ]
  },
  {
   "cell_type": "code",
   "execution_count": 3,
   "id": "33e96589-94ef-4421-b50f-498a2a2f610c",
   "metadata": {
    "tags": []
   },
   "outputs": [
    {
     "data": {
      "text/plain": [
       "compute (generic function with 1 method)"
      ]
     },
     "execution_count": 3,
     "metadata": {},
     "output_type": "execute_result"
    }
   ],
   "source": [
    "# stablicowana wartość stałej Eulera\n",
    "eulerConstant = 0.57721566490153286060651209008240243104215933593992\n",
    "\n",
    "# n-ty wyraz ciągu gamma\n",
    "function gamma(n)\n",
    "    sum = zero(__precision)\n",
    "\n",
    "    for i in 1:n\n",
    "        sum = sum + 1/convert(__precision, (n - i + 1))\n",
    "    end\n",
    "\n",
    "    return  sum - log(convert(__precision, n))\n",
    "end\n",
    "\n",
    "# błąd przybliżenia dla n - przydatne również dla drugiej metody\n",
    "function error(n)\n",
    "    return gamma(n) - eulerConstant\n",
    "end\n",
    "\n",
    "# konstruktor zbiorów wartości; zwraca listę elementów międzu begX i endX oddalonych od siebie o wartość step\n",
    "function inputgen(begX, endX, step)\n",
    "    res = []\n",
    "    x = begX\n",
    "    while(x < endX)\n",
    "        push!(res, x)\n",
    "        x = x + step\n",
    "    end\n",
    "    \n",
    "    return res\n",
    "end\n",
    "\n",
    "\n",
    "calcC = 0\n",
    "calcD = 0\n",
    "\n",
    "# właściwa fukncja obliczająca c oraz d\n",
    "function compute(inputs; verbose = false)\n",
    "    valuesY = []\n",
    "    argumentsX = []\n",
    "    chartY = []\n",
    "    \n",
    "    # inicjacja tablic z wartościami\n",
    "    for i in 1:length(inputs)\n",
    "        push!(chartY, error(inputs[i]))\n",
    "        push!(valuesY, log2(chartY[i]))\n",
    "        push!(argumentsX, log2(inputs[i]))\n",
    "    end\n",
    "    \n",
    "    a, b = linear_regression(argumentsX, valuesY, verbose)\n",
    "    \n",
    "    c = 2^b\n",
    "    d = -a\n",
    "    \n",
    "    # żeby móc zwracać C oraz D i jednocześnie wyświetlać wykres jako wynik ewaluacji\n",
    "    # wartości są zwracane jako zmienne globalne\n",
    "    global calcC, calcD\n",
    "    \n",
    "    calcC = c\n",
    "    calcD = d\n",
    "    \n",
    "    # rozszerzony output funkcji. Podaje wyliczone c oraz d i przedstawia porównanie ciągu i funkcji na wykresie\n",
    "    if verbose\n",
    "        f(x) = c*x^(-d)\n",
    "\n",
    "        @printf(\"c = %.20f\\nd = %.20f\\n\", c, d)\n",
    "\n",
    "        plot(LinRange(inputs[1], inputs[length(inputs)], 100), f , color=\"red\", linewidth=2.0, #lineslista1/Untitled3tyle=:dash, \n",
    "        title=\"Porównanie na przedziale [\"*string(inputs[1])* \"; \" *string(inputs[length(inputs)])*\"]\", legend=:outertopleft, xlabel=\"\\$x\\$\", label =\"\\$ cn^{-d} \\$\")\n",
    "\n",
    "        Plots.scatter!(inputs, chartY , color=\"blue\", label=\"\\$ \\\\gamma_n - \\\\gamma \\$\" )\n",
    "    end\n",
    "end"
   ]
  },
  {
   "cell_type": "markdown",
   "id": "3648ebba-2a69-4fb3-bd5f-8f01b0233551",
   "metadata": {
    "tags": []
   },
   "source": [
    "### Wyniki dla pierwszej metody:"
   ]
  },
  {
   "cell_type": "code",
   "execution_count": 4,
   "id": "6e7004bf-74e8-4db9-bba3-c3ef7f14b8ab",
   "metadata": {},
   "outputs": [
    {
     "name": "stdout",
     "output_type": "stream",
     "text": [
      "Przybliżenie a: -0.999837\n",
      "b: -1.001862\n",
      "Lp. / X / Y / przybliżenie / błąd względny / błąd bezwględny1: 9.9657842847 -10.9660247539 -10.9660247092 0.0000000446 0.0000000041\n",
      "2: 9.9672262588 -10.9674664878 -10.9674664487 0.0000000391 0.0000000036\n",
      "3: 9.9686667932 -10.9689067824 -10.9689067486 0.0000000337 0.0000000031\n",
      "4: 9.9701058906 -10.9703456405 -10.9703456118 0.0000000287 0.0000000026\n",
      "5: 9.9715435540 -10.9717830650 -10.9717830412 0.0000000238 0.0000000022\n",
      "6: 9.9729797861 -10.9732190588 -10.9732190396 0.0000000193 0.0000000018\n",
      "7: 9.9744145898 -10.9746536247 -10.9746536098 0.0000000149 0.0000000014\n",
      "8: 9.9758479680 -10.9760867655 -10.9760867547 0.0000000108 0.0000000010\n",
      "9: 9.9772799235 -10.9775184841 -10.9775184771 0.0000000069 0.0000000006\n",
      "10: 9.9787104591 -10.9789487832 -10.9789487799 0.0000000033 0.0000000003\n",
      "11: 9.9801395776 -10.9803776658 -10.9803776659 0.0000000001 0.0000000000\n",
      "12: 9.9815672819 -10.9818051345 -10.9818051378 0.0000000032 0.0000000003\n",
      "13: 9.9829935747 -10.9832311923 -10.9832311984 0.0000000062 0.0000000006\n",
      "14: 9.9844184588 -10.9846558418 -10.9846558506 0.0000000088 0.0000000008\n",
      "15: 9.9858419370 -10.9860790858 -10.9860790971 0.0000000113 0.0000000010\n",
      "16: 9.9872640121 -10.9875009273 -10.9875009408 0.0000000135 0.0000000012\n",
      "17: 9.9886846868 -10.9889213688 -10.9889213842 0.0000000155 0.0000000014\n",
      "18: 9.9901039639 -10.9903404131 -10.9903404303 0.0000000172 0.0000000016\n",
      "19: 9.9915218461 -10.9917580630 -10.9917580818 0.0000000188 0.0000000017\n",
      "20: 9.9929383362 -10.9931743213 -10.9931743413 0.0000000201 0.0000000018\n",
      "21: 9.9943534369 -10.9945891906 -10.9945892117 0.0000000211 0.0000000019\n",
      "22: 9.9957671509 -10.9960026737 -10.9960026957 0.0000000220 0.0000000020\n",
      "23: 9.9971794809 -10.9974147733 -10.9974147959 0.0000000226 0.0000000021\n",
      "24: 9.9985904297 -10.9988254921 -10.9988255150 0.0000000230 0.0000000021\n",
      "25: 10.0000000000 -11.0002348328 -11.0002348559 0.0000000231 0.0000000021\n",
      "26: 10.0014081944 -11.0016427980 -11.0016428211 0.0000000231 0.0000000021\n",
      "27: 10.0028150156 -11.0030493906 -11.0030494133 0.0000000228 0.0000000021\n",
      "28: 10.0042204663 -11.0044546130 -11.0044546353 0.0000000223 0.0000000020\n",
      "29: 10.0056245492 -11.0058584681 -11.0058584897 0.0000000215 0.0000000020\n",
      "30: 10.0070272669 -11.0072609585 -11.0072609791 0.0000000206 0.0000000019\n",
      "31: 10.0084286221 -11.0086620868 -11.0086621062 0.0000000194 0.0000000018\n",
      "32: 10.0098286174 -11.0100618556 -11.0100618736 0.0000000180 0.0000000016\n",
      "33: 10.0112272554 -11.0114602676 -11.0114602840 0.0000000164 0.0000000015\n",
      "34: 10.0126245389 -11.0128573255 -11.0128573401 0.0000000146 0.0000000013\n",
      "35: 10.0140204703 -11.0142530318 -11.0142530443 0.0000000125 0.0000000011\n",
      "36: 10.0154150524 -11.0156473891 -11.0156473994 0.0000000103 0.0000000009\n",
      "37: 10.0168082877 -11.0170404001 -11.0170404080 0.0000000078 0.0000000007\n",
      "38: 10.0182001788 -11.0184320674 -11.0184320726 0.0000000051 0.0000000005\n",
      "39: 10.0195907284 -11.0198223936 -11.0198223958 0.0000000022 0.0000000002\n",
      "40: 10.0209799389 -11.0212113811 -11.0212113802 0.0000000009 0.0000000001\n",
      "41: 10.0223678130 -11.0225990327 -11.0225990285 0.0000000042 0.0000000004\n",
      "42: 10.0237543533 -11.0239853508 -11.0239853431 0.0000000077 0.0000000007\n",
      "43: 10.0251395623 -11.0253703381 -11.0253703266 0.0000000115 0.0000000010\n",
      "44: 10.0265234425 -11.0267539971 -11.0267539816 0.0000000154 0.0000000014\n",
      "45: 10.0279059966 -11.0281363302 -11.0281363107 0.0000000196 0.0000000018\n",
      "46: 10.0292872270 -11.0295173402 -11.0295173163 0.0000000239 0.0000000022\n",
      "47: 10.0306671362 -11.0308970295 -11.0308970010 0.0000000285 0.0000000026\n",
      "48: 10.0320457269 -11.0322754006 -11.0322753673 0.0000000333 0.0000000030\n",
      "49: 10.0334230015 -11.0336524560 -11.0336524177 0.0000000383 0.0000000035\n",
      "50: 10.0347989626 -11.0350281983 -11.0350281548 0.0000000435 0.0000000039\n",
      "maxBW: 0.0000000446, minBW: 0.0000000001 \n",
      "maxBB: 0.0000000041, minBB: 0.0000000000\n",
      "c = 0.49935496422592612342\n",
      "d = 0.99983724744914292959\n"
     ]
    },
    {
     "data": {
      "image/png": "[encoded data removed]"
     },
     "execution_count": 4,
     "metadata": {},
     "output_type": "execute_result"
    }
   ],
   "source": [
    "compute(inputgen(10^3, 10^3+50, 1); verbose = true)"
   ]
  },
  {
   "cell_type": "markdown",
   "id": "ca24813e-6b0d-4e0f-ba4d-e447692960b1",
   "metadata": {},
   "source": [
    "## Metoda druga - przybliżanie wykładnika zbieżności"
   ]
  },
  {
   "cell_type": "code",
   "execution_count": 5,
   "id": "3b716f57-b22f-475b-9e08-02ff081a06fe",
   "metadata": {},
   "outputs": [
    {
     "data": {
      "text/plain": [
       "compute2 (generic function with 1 method)"
      ]
     },
     "execution_count": 5,
     "metadata": {},
     "output_type": "execute_result"
    }
   ],
   "source": [
    "# zaimplementowana metoda obliczania wykładnika zbiezności\n",
    "function convergenceExponent(n)\n",
    "\treturn log2(error(n)/error(n-1))/log2(error(n-1)/error(n-2))\n",
    "end\n",
    "\n",
    "# druga metoda obliczeniowa, oblicza kolejne przybliżenia d i zwraca wykres\n",
    "function compute2(inputs; verbose = false)\n",
    "    valuesY = []\n",
    "    \n",
    "    # inicjacja tablic z wartościami\n",
    "    for i in 1:length(inputs)\n",
    "        push!(valuesY, convergenceExponent(inputs[i]))\n",
    "    end \n",
    "    \n",
    "    \n",
    "    # rozszerzony output funkcji\n",
    "    if verbose\n",
    "         @printf(\"Lp. / Wynik\\n\")\n",
    "        for i in 1:length(inputs)\n",
    "            @printf(\"%d %.10f\\n\", i, valuesY[i]);\n",
    "        end\n",
    "        \n",
    "        \n",
    "        Plots.scatter(inputs, valuesY , color=\"blue\", title=\"Wykładnik zbiezności\", legend=:outertopleft, label =\"\\$ c \\$\")\n",
    "        \n",
    "        f(x) = 1\n",
    "        \n",
    "        plot!(LinRange(inputs[1], inputs[length(inputs)], 100), f , color=\"red\", label=\"\\$ f(x) = 1 \\$\" )\n",
    "    end\n",
    "end"
   ]
  },
  {
   "cell_type": "code",
   "execution_count": 6,
   "id": "1d9f1cf4-487f-4772-9b06-09ccbd202fe2",
   "metadata": {},
   "outputs": [
    {
     "name": "stdout",
     "output_type": "stream",
     "text": [
      "Lp. / Wynik\n",
      "1 0.9999003841\n",
      "2 0.9999000984\n",
      "3 0.9999005336\n",
      "4 0.9999009794\n",
      "5 0.9999014360\n",
      "6 0.9999008162\n",
      "7 0.9999016535\n",
      "8 0.9999017741\n",
      "9 0.9999011692\n",
      "10 0.9999016707\n",
      "11 0.9999018136\n",
      "12 0.9999023353\n",
      "13 0.9999021231\n",
      "14 0.9999026636\n",
      "15 0.9999028398\n",
      "16 0.9999030241\n",
      "17 0.9999028381\n",
      "18 0.9999034166\n",
      "19 0.9999032438\n",
      "20 0.9999034588\n",
      "21 0.9999040662\n",
      "22 0.9999035277\n",
      "23 0.9999045400\n",
      "24 0.9999040120\n",
      "25 0.9999046565\n",
      "26 0.9999045291\n",
      "27 0.9999048000\n",
      "28 0.9999050792\n",
      "29 0.9999049706\n",
      "30 0.9999056626\n",
      "31 0.9999051686\n",
      "32 0.9999046770\n",
      "33 0.9999057961\n",
      "34 0.9999053151\n",
      "35 0.9999060520\n",
      "36 0.9999068003\n",
      "37 0.9999067438\n",
      "38 0.9999071025\n",
      "39 0.9999078808\n",
      "40 0.9999074325\n",
      "41 0.9999069867\n",
      "42 0.9999069591\n",
      "43 0.9999069369\n",
      "44 0.9999077582\n",
      "45 0.9999090116\n",
      "46 0.9999085918\n",
      "47 0.9999090216\n",
      "48 0.9999090351\n",
      "49 0.9999086275\n",
      "50 0.9999090789\n"
     ]
    },
    {
     "data": {
      "image/png": "[encoded data removed]"
     },
     "execution_count": 6,
     "metadata": {},
     "output_type": "execute_result"
    }
   ],
   "source": [
    "compute2(inputgen(10^4, 10^4+1000, 20); verbose = true)"
   ]
  },
  {
   "cell_type": "markdown",
   "id": "d6298d43-cf04-4aaf-a7e6-684ab64b837a",
   "metadata": {},
   "source": [
    "## Porównanie pierwszej i drugiej metody."
   ]
  },
  {
   "cell_type": "code",
   "execution_count": 7,
   "id": "7143bfea-271d-43c8-93b3-fa199dd7d6a9",
   "metadata": {},
   "outputs": [
    {
     "data": {
      "text/plain": [
       "compare (generic function with 1 method)"
      ]
     },
     "execution_count": 7,
     "metadata": {},
     "output_type": "execute_result"
    }
   ],
   "source": [
    "\n",
    "# funkcja porównująca obie metody, zaimplementowana jak we sprawozdaniu\n",
    "function compare(inputs; verbose = false)\n",
    "    valuesY1 = []\n",
    "    valuesY2 = []\n",
    "    \n",
    "    for i in 1:length(inputs)\n",
    "        compute([inputs[i]-2, inputs[i]-1, inputs[i]])\n",
    "        push!(valuesY1, calcD)\n",
    "        push!(valuesY2, convergenceExponent(inputs[i]))\n",
    "        \n",
    "       \n",
    "    end \n",
    "    \n",
    "    if verbose\n",
    "         @printf(\"Lp. / Metoda 1 / Metoda 2\\n\")\n",
    "        for i in 1:length(inputs)\n",
    "            @printf(\"%d %.10f %.10f\\n\", i, valuesY1[i], valuesY2[i]);\n",
    "        end\n",
    "        \n",
    "        Plots.scatter(inputs, valuesY1,  color=\"blue\", title=\"Wykładnik zbiezności\", legend=:outertopleft, label =\"Metoda 1\")\n",
    "        Plots.scatter!(inputs, valuesY2, color=\"yellow\", label =\"Metoda 2\")\n",
    "\n",
    "        f(x) = 1\n",
    "\n",
    "        plot!(LinRange(inputs[1], inputs[length(inputs)], 100), f , color=\"red\", label=\"\\$ f(x) = 1 \\$\" )\n",
    "    end\n",
    "end\n"
   ]
  },
  {
   "cell_type": "code",
   "execution_count": 8,
   "id": "4f0feca4-9e3d-4691-813c-3cf7d85f5e8c",
   "metadata": {},
   "outputs": [
    {
     "name": "stdout",
     "output_type": "stream",
     "text": [
      "Lp. / Metoda 1 / Metoda 2\n",
      "1 0.9999827570 0.9999003841\n",
      "2 0.9999839082 0.9999000984\n",
      "3 0.9999852426 0.9999005336\n",
      "4 0.9999851241 0.9999009794\n",
      "5 0.9999851744 0.9999014360\n",
      "6 0.9999832461 0.9999008162\n",
      "7 0.9999858407 0.9999016535\n",
      "8 0.9999844875 0.9999017741\n",
      "9 0.9999825050 0.9999011692\n",
      "10 0.9999819129 0.9999016707\n",
      "11 0.9999829210 0.9999018136\n",
      "12 0.9999838067 0.9999023353\n",
      "13 0.9999839152 0.9999021231\n",
      "14 0.9999805762 0.9999026636\n",
      "15 0.9999843732 0.9999028398\n",
      "16 0.9999860898 0.9999030241\n",
      "17 0.9999832188 0.9999028381\n",
      "18 0.9999841282 0.9999034166\n",
      "19 0.9999836073 0.9999032438\n",
      "20 0.9999852785 0.9999034588\n",
      "21 0.9999831837 0.9999040662\n",
      "22 0.9999848916 0.9999035277\n",
      "23 0.9999844063 0.9999045400\n",
      "24 0.9999859687 0.9999040120\n",
      "25 0.9999842636 0.9999046565\n",
      "26 0.9999835345 0.9999045291\n",
      "27 0.9999851060 0.9999048000\n",
      "28 0.9999820311 0.9999050792\n",
      "29 0.9999858291 0.9999049706\n",
      "30 0.9999830099 0.9999056626\n",
      "31 0.9999828864 0.9999051686\n",
      "32 0.9999868470 0.9999046770\n",
      "33 0.9999825455 0.9999057961\n",
      "34 0.9999820566 0.9999053151\n",
      "35 0.9999854847 0.9999060520\n",
      "36 0.9999825149 0.9999068003\n",
      "37 0.9999793463 0.9999067438\n",
      "38 0.9999825587 0.9999071025\n",
      "39 0.9999844771 0.9999078808\n",
      "40 0.9999834655 0.9999074325\n",
      "41 0.9999863298 0.9999069867\n",
      "42 0.9999852984 0.9999069591\n",
      "43 0.9999865376 0.9999069369\n",
      "44 0.9999826273 0.9999077582\n",
      "45 0.9999836959 0.9999090116\n",
      "46 0.9999842763 0.9999085918\n",
      "47 0.9999842941 0.9999090216\n",
      "48 0.9999827166 0.9999090351\n",
      "49 0.9999882753 0.9999086275\n",
      "50 0.9999857102 0.9999090789\n"
     ]
    },
    {
     "data": {
      "image/png": "[encoded data removed]"
     },
     "execution_count": 8,
     "metadata": {},
     "output_type": "execute_result"
    }
   ],
   "source": [
    "compare(inputgen(10^4, 10^4+1000, 20); verbose = true)"
   ]
  }
 ],
 "metadata": {
  "@webio": {
   "lastCommId": "e4781517-c39d-44af-a768-1664eedd2fb0",
   "lastKernelId": "00c1cd0b-d6ea-4c0a-ad55-c378fd61e25c"
  },
  "kernelspec": {
   "display_name": "Julia 1.6.3",
   "language": "julia",
   "name": "julia-1.6"
  },
  "language_info": {
   "file_extension": ".jl",
   "mimetype": "application/julia",
   "name": "julia",
   "version": "1.6.3"
  }
 },
 "nbformat": 4,
 "nbformat_minor": 5
}
